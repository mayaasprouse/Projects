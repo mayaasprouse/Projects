{
 "cells": [
  {
   "cell_type": "code",
   "execution_count": 7,
   "id": "825144a4",
   "metadata": {},
   "outputs": [],
   "source": [
    "import json\n",
    "import numpy as np\n",
    "import pandas as pd"
   ]
  },
  {
   "cell_type": "code",
   "execution_count": 8,
   "id": "9c5a0ff1",
   "metadata": {},
   "outputs": [],
   "source": [
    "data = json.load(open('hourly_electricity_demand_CA.json'))"
   ]
  },
  {
   "cell_type": "code",
   "execution_count": 27,
   "id": "cbc6aee9",
   "metadata": {},
   "outputs": [],
   "source": [
    "df = pd.DataFrame(data['series'][0]['data'])\n",
    "df = df.rename(columns = {0 : \"Timestamp\",\n",
    "                          1 : \"Demand(mwh)\"})"
   ]
  },
  {
   "cell_type": "code",
   "execution_count": 28,
   "id": "d1479d31",
   "metadata": {},
   "outputs": [
    {
     "data": {
      "text/html": [
       "<div>\n",
       "<style scoped>\n",
       "    .dataframe tbody tr th:only-of-type {\n",
       "        vertical-align: middle;\n",
       "    }\n",
       "\n",
       "    .dataframe tbody tr th {\n",
       "        vertical-align: top;\n",
       "    }\n",
       "\n",
       "    .dataframe thead th {\n",
       "        text-align: right;\n",
       "    }\n",
       "</style>\n",
       "<table border=\"1\" class=\"dataframe\">\n",
       "  <thead>\n",
       "    <tr style=\"text-align: right;\">\n",
       "      <th></th>\n",
       "      <th>Timestamp</th>\n",
       "      <th>Demand(mwh)</th>\n",
       "    </tr>\n",
       "  </thead>\n",
       "  <tbody>\n",
       "    <tr>\n",
       "      <th>0</th>\n",
       "      <td>20211230T12-08</td>\n",
       "      <td>28948</td>\n",
       "    </tr>\n",
       "    <tr>\n",
       "      <th>1</th>\n",
       "      <td>20211230T11-08</td>\n",
       "      <td>29684</td>\n",
       "    </tr>\n",
       "    <tr>\n",
       "      <th>2</th>\n",
       "      <td>20211230T10-08</td>\n",
       "      <td>30361</td>\n",
       "    </tr>\n",
       "    <tr>\n",
       "      <th>3</th>\n",
       "      <td>20211230T09-08</td>\n",
       "      <td>30493</td>\n",
       "    </tr>\n",
       "    <tr>\n",
       "      <th>4</th>\n",
       "      <td>20211230T08-08</td>\n",
       "      <td>29981</td>\n",
       "    </tr>\n",
       "    <tr>\n",
       "      <th>...</th>\n",
       "      <td>...</td>\n",
       "      <td>...</td>\n",
       "    </tr>\n",
       "    <tr>\n",
       "      <th>56984</th>\n",
       "      <td>20150701T05-07</td>\n",
       "      <td>31199</td>\n",
       "    </tr>\n",
       "    <tr>\n",
       "      <th>56985</th>\n",
       "      <td>20150701T04-07</td>\n",
       "      <td>31955</td>\n",
       "    </tr>\n",
       "    <tr>\n",
       "      <th>56986</th>\n",
       "      <td>20150701T03-07</td>\n",
       "      <td>33243</td>\n",
       "    </tr>\n",
       "    <tr>\n",
       "      <th>56987</th>\n",
       "      <td>20150701T02-07</td>\n",
       "      <td>35171</td>\n",
       "    </tr>\n",
       "    <tr>\n",
       "      <th>56988</th>\n",
       "      <td>20150701T01-07</td>\n",
       "      <td>38210</td>\n",
       "    </tr>\n",
       "  </tbody>\n",
       "</table>\n",
       "<p>56989 rows × 2 columns</p>\n",
       "</div>"
      ],
      "text/plain": [
       "            Timestamp  Demand(mwh)\n",
       "0      20211230T12-08        28948\n",
       "1      20211230T11-08        29684\n",
       "2      20211230T10-08        30361\n",
       "3      20211230T09-08        30493\n",
       "4      20211230T08-08        29981\n",
       "...               ...          ...\n",
       "56984  20150701T05-07        31199\n",
       "56985  20150701T04-07        31955\n",
       "56986  20150701T03-07        33243\n",
       "56987  20150701T02-07        35171\n",
       "56988  20150701T01-07        38210\n",
       "\n",
       "[56989 rows x 2 columns]"
      ]
     },
     "execution_count": 28,
     "metadata": {},
     "output_type": "execute_result"
    }
   ],
   "source": [
    "df"
   ]
  }
 ],
 "metadata": {
  "kernelspec": {
   "display_name": "Python 3 (ipykernel)",
   "language": "python",
   "name": "python3"
  },
  "language_info": {
   "codemirror_mode": {
    "name": "ipython",
    "version": 3
   },
   "file_extension": ".py",
   "mimetype": "text/x-python",
   "name": "python",
   "nbconvert_exporter": "python",
   "pygments_lexer": "ipython3",
   "version": "3.9.7"
  }
 },
 "nbformat": 4,
 "nbformat_minor": 5
}
